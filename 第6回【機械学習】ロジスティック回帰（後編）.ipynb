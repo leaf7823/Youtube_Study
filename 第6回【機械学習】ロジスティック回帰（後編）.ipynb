{
  "nbformat": 4,
  "nbformat_minor": 0,
  "metadata": {
    "colab": {
      "name": "第6回【機械学習】ロジスティック回帰（後編）",
      "version": "0.3.2",
      "provenance": []
    },
    "kernelspec": {
      "name": "python3",
      "display_name": "Python 3"
    }
  },
  "cells": [
    {
      "cell_type": "code",
      "metadata": {
        "id": "1BnHvbIuqYY4",
        "colab_type": "code",
        "colab": {}
      },
      "source": [
        "import numpy as np\n",
        "import matplotlib.pyplot as plt\n",
        "from sklearn.datasets import load_digits\n",
        "\n",
        "# from sklearn.datasets import load_iris\n",
        "# import pandas as pd\n",
        "# from sklearn.linear_model import LogisticRegression\n",
        "# from sklearn.preprocessing import StandardScaler\n",
        "# from sklearn.model_selection import train_test_split"
      ],
      "execution_count": 0,
      "outputs": []
    },
    {
      "cell_type": "code",
      "metadata": {
        "id": "3wsr6Q8UxbEV",
        "colab_type": "code",
        "outputId": "b64ff054-9fe9-40f0-8ab4-7aeb495cefd6",
        "colab": {
          "base_uri": "https://localhost:8080/",
          "height": 1000
        }
      },
      "source": [
        "digits = load_digits()\n",
        "digits"
      ],
      "execution_count": 0,
      "outputs": [
        {
          "output_type": "execute_result",
          "data": {
            "text/plain": [
              "{'DESCR': \".. _digits_dataset:\\n\\nOptical recognition of handwritten digits dataset\\n--------------------------------------------------\\n\\n**Data Set Characteristics:**\\n\\n    :Number of Instances: 5620\\n    :Number of Attributes: 64\\n    :Attribute Information: 8x8 image of integer pixels in the range 0..16.\\n    :Missing Attribute Values: None\\n    :Creator: E. Alpaydin (alpaydin '@' boun.edu.tr)\\n    :Date: July; 1998\\n\\nThis is a copy of the test set of the UCI ML hand-written digits datasets\\nhttps://archive.ics.uci.edu/ml/datasets/Optical+Recognition+of+Handwritten+Digits\\n\\nThe data set contains images of hand-written digits: 10 classes where\\neach class refers to a digit.\\n\\nPreprocessing programs made available by NIST were used to extract\\nnormalized bitmaps of handwritten digits from a preprinted form. From a\\ntotal of 43 people, 30 contributed to the training set and different 13\\nto the test set. 32x32 bitmaps are divided into nonoverlapping blocks of\\n4x4 and the number of on pixels are counted in each block. This generates\\nan input matrix of 8x8 where each element is an integer in the range\\n0..16. This reduces dimensionality and gives invariance to small\\ndistortions.\\n\\nFor info on NIST preprocessing routines, see M. D. Garris, J. L. Blue, G.\\nT. Candela, D. L. Dimmick, J. Geist, P. J. Grother, S. A. Janet, and C.\\nL. Wilson, NIST Form-Based Handprint Recognition System, NISTIR 5469,\\n1994.\\n\\n.. topic:: References\\n\\n  - C. Kaynak (1995) Methods of Combining Multiple Classifiers and Their\\n    Applications to Handwritten Digit Recognition, MSc Thesis, Institute of\\n    Graduate Studies in Science and Engineering, Bogazici University.\\n  - E. Alpaydin, C. Kaynak (1998) Cascading Classifiers, Kybernetika.\\n  - Ken Tang and Ponnuthurai N. Suganthan and Xi Yao and A. Kai Qin.\\n    Linear dimensionalityreduction using relevance weighted LDA. School of\\n    Electrical and Electronic Engineering Nanyang Technological University.\\n    2005.\\n  - Claudio Gentile. A New Approximate Maximal Margin Classification\\n    Algorithm. NIPS. 2000.\",\n",
              " 'data': array([[ 0.,  0.,  5., ...,  0.,  0.,  0.],\n",
              "        [ 0.,  0.,  0., ..., 10.,  0.,  0.],\n",
              "        [ 0.,  0.,  0., ..., 16.,  9.,  0.],\n",
              "        ...,\n",
              "        [ 0.,  0.,  1., ...,  6.,  0.,  0.],\n",
              "        [ 0.,  0.,  2., ..., 12.,  0.,  0.],\n",
              "        [ 0.,  0., 10., ..., 12.,  1.,  0.]]),\n",
              " 'images': array([[[ 0.,  0.,  5., ...,  1.,  0.,  0.],\n",
              "         [ 0.,  0., 13., ..., 15.,  5.,  0.],\n",
              "         [ 0.,  3., 15., ..., 11.,  8.,  0.],\n",
              "         ...,\n",
              "         [ 0.,  4., 11., ..., 12.,  7.,  0.],\n",
              "         [ 0.,  2., 14., ..., 12.,  0.,  0.],\n",
              "         [ 0.,  0.,  6., ...,  0.,  0.,  0.]],\n",
              " \n",
              "        [[ 0.,  0.,  0., ...,  5.,  0.,  0.],\n",
              "         [ 0.,  0.,  0., ...,  9.,  0.,  0.],\n",
              "         [ 0.,  0.,  3., ...,  6.,  0.,  0.],\n",
              "         ...,\n",
              "         [ 0.,  0.,  1., ...,  6.,  0.,  0.],\n",
              "         [ 0.,  0.,  1., ...,  6.,  0.,  0.],\n",
              "         [ 0.,  0.,  0., ..., 10.,  0.,  0.]],\n",
              " \n",
              "        [[ 0.,  0.,  0., ..., 12.,  0.,  0.],\n",
              "         [ 0.,  0.,  3., ..., 14.,  0.,  0.],\n",
              "         [ 0.,  0.,  8., ..., 16.,  0.,  0.],\n",
              "         ...,\n",
              "         [ 0.,  9., 16., ...,  0.,  0.,  0.],\n",
              "         [ 0.,  3., 13., ..., 11.,  5.,  0.],\n",
              "         [ 0.,  0.,  0., ..., 16.,  9.,  0.]],\n",
              " \n",
              "        ...,\n",
              " \n",
              "        [[ 0.,  0.,  1., ...,  1.,  0.,  0.],\n",
              "         [ 0.,  0., 13., ...,  2.,  1.,  0.],\n",
              "         [ 0.,  0., 16., ..., 16.,  5.,  0.],\n",
              "         ...,\n",
              "         [ 0.,  0., 16., ..., 15.,  0.,  0.],\n",
              "         [ 0.,  0., 15., ..., 16.,  0.,  0.],\n",
              "         [ 0.,  0.,  2., ...,  6.,  0.,  0.]],\n",
              " \n",
              "        [[ 0.,  0.,  2., ...,  0.,  0.,  0.],\n",
              "         [ 0.,  0., 14., ..., 15.,  1.,  0.],\n",
              "         [ 0.,  4., 16., ..., 16.,  7.,  0.],\n",
              "         ...,\n",
              "         [ 0.,  0.,  0., ..., 16.,  2.,  0.],\n",
              "         [ 0.,  0.,  4., ..., 16.,  2.,  0.],\n",
              "         [ 0.,  0.,  5., ..., 12.,  0.,  0.]],\n",
              " \n",
              "        [[ 0.,  0., 10., ...,  1.,  0.,  0.],\n",
              "         [ 0.,  2., 16., ...,  1.,  0.,  0.],\n",
              "         [ 0.,  0., 15., ..., 15.,  0.,  0.],\n",
              "         ...,\n",
              "         [ 0.,  4., 16., ..., 16.,  6.,  0.],\n",
              "         [ 0.,  8., 16., ..., 16.,  8.,  0.],\n",
              "         [ 0.,  1.,  8., ..., 12.,  1.,  0.]]]),\n",
              " 'target': array([0, 1, 2, ..., 8, 9, 8]),\n",
              " 'target_names': array([0, 1, 2, 3, 4, 5, 6, 7, 8, 9])}"
            ]
          },
          "metadata": {
            "tags": []
          },
          "execution_count": 5
        }
      ]
    },
    {
      "cell_type": "code",
      "metadata": {
        "id": "9sUaZDxixnU-",
        "colab_type": "code",
        "colab": {}
      },
      "source": [
        "X = digits.data\n",
        "y = digits.target"
      ],
      "execution_count": 0,
      "outputs": []
    },
    {
      "cell_type": "code",
      "metadata": {
        "id": "9cDSpvUEx5dF",
        "colab_type": "code",
        "outputId": "86cab9af-2e16-44e2-9217-d5df38de5c20",
        "colab": {
          "base_uri": "https://localhost:8080/",
          "height": 34
        }
      },
      "source": [
        "X.shape"
      ],
      "execution_count": 0,
      "outputs": [
        {
          "output_type": "execute_result",
          "data": {
            "text/plain": [
              "(1797, 64)"
            ]
          },
          "metadata": {
            "tags": []
          },
          "execution_count": 9
        }
      ]
    },
    {
      "cell_type": "code",
      "metadata": {
        "id": "IiERM2zCx-B7",
        "colab_type": "code",
        "outputId": "eb0c72fd-3b1c-48d2-db97-ab1c34c81a15",
        "colab": {
          "base_uri": "https://localhost:8080/",
          "height": 415
        }
      },
      "source": [
        "images_with_labels = list(zip(digits.images, digits.target))\n",
        "\n",
        "plt.figure(figsize=(15, 6))\n",
        "\n",
        "for idx, (image, label) in enumerate(images_with_labels[:10]):\n",
        "    plt.subplot(2, 5,idx+1)\n",
        "    plt.imshow(image,cmap=plt.cm.gray_r, interpolation='nearest')\n",
        "    plt.axis('off')\n",
        "    plt.title('{}'.format(label),fontsize=25)\n",
        "     \n",
        "plt.show()\n",
        "                          "
      ],
      "execution_count": 0,
      "outputs": [
        {
          "output_type": "display_data",
          "data": {
            "image/png": "[encoded data removed]",
            "text/plain": [
              "<Figure size 1080x432 with 10 Axes>"
            ]
          },
          "metadata": {
            "tags": []
          }
        }
      ]
    },
    {
      "cell_type": "code",
      "metadata": {
        "id": "MeIFWbh-1cfs",
        "colab_type": "code",
        "outputId": "a96d23a7-863c-41c8-a581-f8e437834fda",
        "colab": {
          "base_uri": "https://localhost:8080/",
          "height": 34
        }
      },
      "source": [
        "digits.images.shape"
      ],
      "execution_count": 0,
      "outputs": [
        {
          "output_type": "execute_result",
          "data": {
            "text/plain": [
              "(1797, 8, 8)"
            ]
          },
          "metadata": {
            "tags": []
          },
          "execution_count": 20
        }
      ]
    },
    {
      "cell_type": "code",
      "metadata": {
        "id": "sZtfcK7m1oSW",
        "colab_type": "code",
        "colab": {}
      },
      "source": [
        "from sklearn.model_selection import train_test_split\n",
        "from sklearn.preprocessing import StandardScaler\n",
        "from sklearn.linear_model import LogisticRegression"
      ],
      "execution_count": 0,
      "outputs": []
    },
    {
      "cell_type": "code",
      "metadata": {
        "id": "0IwrnW2L2dB1",
        "colab_type": "code",
        "colab": {}
      },
      "source": [
        "X_train,X_test,y_train,y_test = train_test_split(X,y,random_state=0)"
      ],
      "execution_count": 0,
      "outputs": []
    },
    {
      "cell_type": "code",
      "metadata": {
        "id": "qIgczr-92-LE",
        "colab_type": "code",
        "colab": {}
      },
      "source": [
        "scaler = StandardScaler()\n",
        "X_train_scaled = scaler.fit_transform(X_train)\n",
        "X_test_scaled = scaler.fit_transform(X_test)"
      ],
      "execution_count": 0,
      "outputs": []
    },
    {
      "cell_type": "code",
      "metadata": {
        "id": "p7W_Au4H3ew7",
        "colab_type": "code",
        "outputId": "20425ba9-a09c-49ff-ef1b-5a3beb650eb8",
        "colab": {
          "base_uri": "https://localhost:8080/",
          "height": 107
        }
      },
      "source": [
        "log_reg = LogisticRegression().fit(X_train_scaled,y_train)"
      ],
      "execution_count": 0,
      "outputs": [
        {
          "output_type": "stream",
          "text": [
            "/usr/local/lib/python3.6/dist-packages/sklearn/linear_model/logistic.py:432: FutureWarning: Default solver will be changed to 'lbfgs' in 0.22. Specify a solver to silence this warning.\n",
            "  FutureWarning)\n",
            "/usr/local/lib/python3.6/dist-packages/sklearn/linear_model/logistic.py:469: FutureWarning: Default multi_class will be changed to 'auto' in 0.22. Specify the multi_class option to silence this warning.\n",
            "  \"this warning.\", FutureWarning)\n"
          ],
          "name": "stderr"
        }
      ]
    },
    {
      "cell_type": "code",
      "metadata": {
        "id": "Mc8wC38w3054",
        "colab_type": "code",
        "outputId": "b31d8298-c50e-42f5-a45d-c322e7a3ab48",
        "colab": {
          "base_uri": "https://localhost:8080/",
          "height": 1000
        }
      },
      "source": [
        "log_reg.intercept_, log_reg.coef_"
      ],
      "execution_count": 0,
      "outputs": [
        {
          "output_type": "execute_result",
          "data": {
            "text/plain": [
              "(array([-5.69916472, -6.36862266, -5.77396144, -5.984629  , -5.704684  ,\n",
              "        -5.53911432, -5.83616519, -5.59445694, -5.35434071, -6.40743624]),\n",
              " array([[ 0.00000000e+00, -3.98235507e-02,  8.04773757e-02,\n",
              "          2.62394523e-01, -6.23224221e-02, -6.72669079e-01,\n",
              "         -2.39918969e-01,  9.08356246e-03,  1.29208098e-02,\n",
              "         -2.90443894e-01, -6.92813754e-02,  2.65146557e-01,\n",
              "          5.95591642e-01,  6.54452408e-01, -5.55545311e-02,\n",
              "         -4.27421679e-02,  7.48023252e-02,  2.38270049e-01,\n",
              "          5.48982809e-03, -1.18072535e-01, -5.29583274e-01,\n",
              "          7.85780430e-01,  3.03822164e-02, -2.16610953e-02,\n",
              "          7.44554707e-02,  1.85613920e-01,  3.45273140e-02,\n",
              "         -4.19605055e-01, -1.10579473e+00, -2.40806517e-01,\n",
              "          2.24709223e-01,  8.86089586e-03,  0.00000000e+00,\n",
              "          2.98159268e-01,  3.31419865e-01, -5.27760228e-01,\n",
              "         -8.13926466e-01, -5.25671687e-02,  5.15738305e-02,\n",
              "          0.00000000e+00, -4.64737761e-03, -3.13595760e-01,\n",
              "          8.84627072e-01, -7.35337268e-01, -6.95424969e-01,\n",
              "         -4.27507272e-02,  4.60348251e-02,  6.25600233e-02,\n",
              "         -4.24614049e-02, -1.80503129e-01,  3.00452123e-01,\n",
              "          1.07560305e-01,  4.79833110e-01,  1.77752113e-01,\n",
              "         -3.33135510e-01,  3.45204168e-02,  5.64645153e-02,\n",
              "         -1.36378793e-01, -2.95284766e-01,  4.01380589e-01,\n",
              "         -5.32032799e-01, -1.17621382e-01, -7.08420061e-03,\n",
              "         -1.62606973e-01],\n",
              "        [ 0.00000000e+00,  4.72801847e-02,  1.20322511e-01,\n",
              "          3.73374494e-01, -1.38296171e+00,  1.32015860e+00,\n",
              "          6.98727346e-02, -6.73943500e-02,  1.09612978e-01,\n",
              "         -1.15786773e+00, -1.10358373e+00, -4.56110925e-01,\n",
              "          5.29767990e-01,  3.59207040e-01, -9.77079166e-01,\n",
              "          1.17942678e-01, -1.12504300e-02,  5.56398246e-01,\n",
              "          1.95554780e-01,  1.52818983e+00,  1.18245962e+00,\n",
              "         -5.31618252e-01,  3.22421673e-01, -1.11406480e-01,\n",
              "         -1.34353261e-01, -2.68743304e-02,  5.28966492e-02,\n",
              "          5.47093370e-01,  1.40959192e-01,  5.94153083e-01,\n",
              "         -4.12729733e-01,  8.44944933e-02,  0.00000000e+00,\n",
              "         -5.35640087e-02,  1.05721430e-01, -5.21874083e-02,\n",
              "          3.41953948e-01, -1.66154238e-01, -4.70212529e-01,\n",
              "          0.00000000e+00,  1.28503383e-01, -6.88338888e-01,\n",
              "         -2.50289323e-01,  1.15156297e-01,  2.52208109e-01,\n",
              "         -6.17026298e-01, -1.08305147e-01, -2.62037350e-01,\n",
              "          6.19851706e-02, -2.93908976e-01, -1.06596663e-01,\n",
              "          3.89327031e-01,  2.64460978e-01,  1.55757976e-01,\n",
              "         -4.62183183e-01,  1.57022414e-01, -2.43462956e-02,\n",
              "         -4.62338846e-02, -5.11432891e-01,  3.82409838e-01,\n",
              "          3.91731263e-01,  2.96145014e-01, -2.91269233e-02,\n",
              "          1.24943152e-01],\n",
              "        [ 0.00000000e+00, -8.50428473e-02, -1.01961183e-01,\n",
              "          1.39997295e-01,  3.50827092e-02, -4.28218984e-01,\n",
              "         -9.70086043e-02, -4.68414286e-02, -6.13199639e-02,\n",
              "          3.21904612e-01,  3.39375497e-01, -1.41061261e-01,\n",
              "          4.09737755e-01, -2.77861514e-01,  1.17642959e-01,\n",
              "          5.67490525e-02,  4.40958221e-03, -8.82166602e-02,\n",
              "          3.00516373e-01, -5.56726637e-01,  2.51493533e-01,\n",
              "          6.51600670e-02,  2.64933823e-01,  3.19284767e-01,\n",
              "          7.67278898e-02, -3.18107737e-01, -7.03548319e-01,\n",
              "         -1.25356848e+00, -7.40148102e-02,  2.34034816e-01,\n",
              "         -3.51226526e-02,  2.66233616e-02,  0.00000000e+00,\n",
              "         -3.45626802e-01, -7.35503394e-01, -5.92146086e-02,\n",
              "         -3.23112302e-01, -3.48870842e-01, -6.46785588e-01,\n",
              "          0.00000000e+00, -5.51834940e-02,  4.14276078e-01,\n",
              "          1.12298475e-01,  1.14496132e+00, -8.19107309e-01,\n",
              "         -9.37682761e-01, -9.37212951e-01,  2.07342171e-01,\n",
              "         -7.12594339e-02,  4.83258249e-01, -1.03202204e-01,\n",
              "          5.75714028e-01,  7.10972036e-01,  8.11432449e-01,\n",
              "          5.27578163e-01, -6.72159326e-03,  1.58429393e-01,\n",
              "          1.72608388e-01,  1.01596662e-01,  7.00226481e-02,\n",
              "          4.41556547e-02,  5.04354483e-01,  7.13522046e-01,\n",
              "         -9.04792536e-02],\n",
              "        [ 0.00000000e+00,  2.13992916e-01, -8.78665138e-01,\n",
              "          1.36504798e-01,  6.00786198e-01, -1.55657242e-01,\n",
              "         -2.98607668e-01,  6.13858349e-04, -1.34056691e-01,\n",
              "         -7.14812936e-02,  1.46228047e-01,  1.17571130e-01,\n",
              "          7.91710375e-02,  8.37347187e-01,  5.32233857e-01,\n",
              "         -9.57295379e-02, -2.81675045e-02,  2.31793594e-02,\n",
              "         -1.01755882e+00, -7.55707272e-01,  7.79350511e-01,\n",
              "         -5.39746124e-01,  2.83095605e-01,  1.19204240e-01,\n",
              "          1.27896893e-01, -3.38182533e-01, -9.78353042e-01,\n",
              "         -1.57327640e-01, -4.84619876e-02, -1.02015618e+00,\n",
              "         -1.09661743e+00,  7.08258375e-02,  0.00000000e+00,\n",
              "          2.30059898e-01, -5.73408539e-01,  7.95466972e-02,\n",
              "          1.90087091e-01,  4.59581258e-02, -2.94977128e-01,\n",
              "          0.00000000e+00,  2.14442968e-01,  2.66353744e-01,\n",
              "         -6.75775228e-01, -1.78693384e+00,  4.01159032e-01,\n",
              "          1.13534962e+00,  9.54929640e-01,  3.41948933e-02,\n",
              "          2.11274928e-02, -1.46445880e-01, -2.78538074e-02,\n",
              "         -2.11252591e-01,  2.12317064e-01, -3.02496088e-01,\n",
              "          6.95407419e-01, -2.30464931e-01,  1.01272406e-01,\n",
              "         -1.34523729e-02,  6.77789884e-01,  1.65917233e-01,\n",
              "          4.54676294e-01, -1.68251383e-01, -1.72549281e-01,\n",
              "         -3.81415831e-01],\n",
              "        [ 0.00000000e+00, -7.92700210e-02, -1.98707948e-01,\n",
              "         -1.11563043e+00, -3.63958632e-01, -8.83538141e-01,\n",
              "         -4.62837933e-01,  7.28349136e-02,  4.08383167e-02,\n",
              "          3.81878707e-01, -3.83712077e-01, -4.24351971e-01,\n",
              "         -7.55450438e-01, -7.33171184e-01, -3.51883786e-01,\n",
              "         -8.95598335e-03,  4.75580062e-02,  9.49525817e-02,\n",
              "          4.80637077e-01,  2.53578805e-01, -2.42285464e-01,\n",
              "          4.95781836e-01, -9.27873343e-02,  1.77007400e-01,\n",
              "          1.92136407e-01, -1.09419569e-01,  5.07923547e-01,\n",
              "         -1.76837128e-01,  8.32009360e-02,  1.48360026e-01,\n",
              "          6.66727121e-01,  2.20557966e-01,  0.00000000e+00,\n",
              "          4.81864562e-01, -6.09581742e-02, -1.35686146e-01,\n",
              "          4.71389304e-01,  2.30616661e-01,  5.34580961e-01,\n",
              "          0.00000000e+00,  3.44423974e-01,  6.52454337e-01,\n",
              "         -5.42507237e-01,  1.10495318e+00,  3.61593463e-01,\n",
              "          2.16333228e-01, -5.28239183e-02, -4.87225111e-02,\n",
              "          1.21179105e-01,  4.85213536e-01, -5.15543401e-01,\n",
              "         -4.43152789e-02,  2.03431975e-01, -7.48364282e-01,\n",
              "         -6.28286790e-01,  1.11592591e-01, -1.69071892e-01,\n",
              "          1.06925847e-01,  1.41115968e-01, -1.94135952e-01,\n",
              "          6.05045862e-02, -5.30049162e-01, -9.27500222e-02,\n",
              "         -7.99232289e-02],\n",
              "        [ 0.00000000e+00, -3.34353380e-02,  1.00419429e+00,\n",
              "         -5.71156288e-01,  3.00092400e-01,  6.61707431e-01,\n",
              "          7.50171222e-01, -3.89506095e-01,  8.85614347e-02,\n",
              "         -3.60154723e-02,  4.42810355e-01,  2.38230312e-01,\n",
              "          3.53620496e-01, -3.98439137e-01, -2.99361183e-01,\n",
              "          5.20122562e-02, -7.42913572e-02,  7.25009350e-02,\n",
              "          3.82090753e-01,  4.68995688e-02, -1.41933594e+00,\n",
              "         -1.49360577e+00, -1.03326354e+00,  2.74791835e-01,\n",
              "         -1.31601916e-01,  2.40696141e-01,  7.28374077e-01,\n",
              "         -1.21824898e-01,  7.13820394e-01,  1.04353904e-01,\n",
              "         -5.76981042e-01, -3.15687264e-02,  0.00000000e+00,\n",
              "         -3.87394281e-01,  4.63504331e-01, -3.22757235e-01,\n",
              "         -3.35967985e-01, -1.32882543e-01, -2.84507522e-03,\n",
              "          0.00000000e+00,  1.94321354e-02, -2.53111027e-01,\n",
              "         -7.53306718e-01, -6.41452990e-01, -1.27000431e-01,\n",
              "          1.95207330e-01,  8.30879636e-02, -5.70829409e-02,\n",
              "          1.06340246e-01,  7.15982637e-02, -1.81760468e-01,\n",
              "          1.55440093e-02,  4.26546344e-02, -2.25172368e-01,\n",
              "         -5.17751526e-01,  1.48507962e-01, -8.07828215e-04,\n",
              "          9.31494134e-02,  4.82980955e-01,  4.89506592e-01,\n",
              "         -2.48234392e-01, -7.93441586e-02, -1.75194392e-01,\n",
              "         -3.42159013e-01],\n",
              "        [ 0.00000000e+00, -4.11925816e-02, -5.01575462e-01,\n",
              "          1.95112505e-01, -1.74710937e-01, -1.73036563e-01,\n",
              "          2.98926248e-02,  1.90460956e-02,  2.90725832e-02,\n",
              "         -2.71518025e-01, -2.52590916e-01, -1.58833509e-01,\n",
              "         -4.98193364e-01, -2.19564390e-01,  4.10813951e-01,\n",
              "          5.16077021e-04, -2.16188413e-02, -2.37431057e-01,\n",
              "          1.59086794e-01, -5.33648424e-02, -4.23575604e-01,\n",
              "         -1.40383605e+00, -1.14642303e-01,  4.44215691e-02,\n",
              "          1.21769191e-02, -2.14883376e-02, -1.21505525e-02,\n",
              "          1.42437059e-01, -2.98743982e-01, -2.03716685e-01,\n",
              "         -7.58566335e-01,  5.57686513e-02,  0.00000000e+00,\n",
              "          2.59772037e-01,  5.58038345e-01,  4.76077520e-01,\n",
              "         -1.18790597e-01,  2.68863240e-01, -1.58634522e-01,\n",
              "          0.00000000e+00,  5.12797636e-03, -6.93869980e-01,\n",
              "          8.19831552e-01, -1.25996010e-01,  3.60854289e-01,\n",
              "          4.10689115e-01,  5.07451896e-01,  4.04006256e-01,\n",
              "          3.75287146e-02, -3.21496943e-01,  6.58492541e-01,\n",
              "          7.86691271e-01, -5.69793008e-01,  4.19936092e-01,\n",
              "          3.76452923e-01, -3.57809077e-01,  1.15687306e-01,\n",
              "         -4.81743796e-02, -2.82482654e-01, -2.40288968e-01,\n",
              "         -2.00190409e-01,  4.85713743e-01, -2.12998675e-01,\n",
              "         -7.04923682e-02],\n",
              "        [ 0.00000000e+00,  1.23949811e-01,  3.91224887e-02,\n",
              "          3.31656588e-01,  3.32522952e-01,  4.53911688e-01,\n",
              "          3.65733165e-01,  5.72802734e-01,  4.53065366e-02,\n",
              "          8.97408600e-02,  6.81126876e-01,  2.46090248e-01,\n",
              "          9.38456894e-01, -4.32522717e-03, -2.37384944e-01,\n",
              "          1.72568258e-01,  6.10259014e-02, -4.38553009e-01,\n",
              "         -5.58410578e-01, -6.44907654e-01, -1.29398535e-01,\n",
              "          3.57134931e-01,  2.80637082e-02, -1.03951407e-01,\n",
              "          4.81967641e-02, -4.66156474e-01, -3.04189062e-01,\n",
              "         -6.07040936e-01, -2.72300601e-01,  2.13255119e-01,\n",
              "          3.51005344e-01,  5.72806125e-02,  0.00000000e+00,\n",
              "         -3.28708317e-01,  2.53482706e-01,  1.56037496e-01,\n",
              "          3.83267353e-01,  6.33562257e-01,  3.17877640e-01,\n",
              "          0.00000000e+00,  2.04689883e-03, -2.03216467e-01,\n",
              "          1.83267764e-01,  1.26322337e-01,  4.69729160e-01,\n",
              "         -5.03390101e-02,  8.29923297e-02,  3.52413706e-02,\n",
              "          6.38113305e-02, -1.85563380e-01,  7.36684511e-03,\n",
              "          2.75440653e-01, -1.17869735e+00, -9.77134494e-01,\n",
              "         -1.64029967e-01,  5.90132665e-02,  4.50323087e-02,\n",
              "         -4.58610674e-01, -2.71230407e-01, -5.77928885e-01,\n",
              "         -7.06026330e-01, -6.22558563e-01, -2.96857227e-01,\n",
              "          1.73199765e-01],\n",
              "        [ 0.00000000e+00, -8.76344570e-02,  2.58615457e-01,\n",
              "         -7.48435978e-01,  3.35441932e-01, -7.53195934e-02,\n",
              "         -1.06880660e+00, -1.90796579e-02,  5.18533095e-02,\n",
              "         -1.38857280e-01,  7.65563736e-01,  5.09497970e-02,\n",
              "         -5.79055290e-01,  7.07550893e-01,  5.94136879e-01,\n",
              "          2.19757795e-02,  1.61098249e-01,  1.94427106e-01,\n",
              "          8.34783207e-01,  3.40192942e-01, -1.02159181e-02,\n",
              "          4.64406658e-01,  1.87140539e-01, -1.92096258e-01,\n",
              "         -1.66319727e-02, -6.32890060e-03, -1.19247215e-01,\n",
              "          7.89640742e-01, -2.01065238e-01,  1.12207213e-01,\n",
              "         -3.90904206e-02,  3.68003440e-02,  0.00000000e+00,\n",
              "         -8.64335278e-01, -7.31847462e-01,  1.43493795e+00,\n",
              "          1.99485451e-01, -4.71460343e-01, -1.40923366e+00,\n",
              "          0.00000000e+00,  1.36840414e-02,  3.96855829e-01,\n",
              "          9.11094375e-01,  3.27588981e-01,  2.66293288e-01,\n",
              "          3.80375083e-01,  2.03350923e-01,  2.92436951e-02,\n",
              "          8.45710099e-02, -1.17975388e-01,  5.54393021e-01,\n",
              "         -7.82177847e-01, -7.19719931e-01,  4.34948993e-01,\n",
              "         -6.57120166e-02, -2.28578257e-01, -7.07175135e-02,\n",
              "         -4.50930846e-02, -8.57709923e-01,  4.52552515e-02,\n",
              "          3.16232584e-01, -8.04000228e-01, -2.99625022e-02,\n",
              "         -5.34776642e-03],\n",
              "        [ 0.00000000e+00, -1.86009158e-01, -3.60866173e-01,\n",
              "          5.90044521e-01,  1.36815476e-01, -6.18958508e-01,\n",
              "         -3.39934357e-02, -2.31856577e-01, -3.98750235e-02,\n",
              "          1.65529988e-01,  4.08123633e-01, -1.22866410e-01,\n",
              "          1.66707109e-01,  1.75237492e-01,  3.03865561e-01,\n",
              "          7.68416742e-02,  4.81550435e-02,  1.03905484e-01,\n",
              "          7.33604464e-01,  4.79128944e-01,  8.84245829e-02,\n",
              "          1.56811617e+00,  1.29555797e-01, -4.18987140e-01,\n",
              "          3.78665570e-02, -2.70526709e-01,  6.75288911e-01,\n",
              "          6.43449474e-01,  3.40559735e-01,  8.94176528e-01,\n",
              "         -8.45352737e-02, -2.54499911e-02,  0.00000000e+00,\n",
              "         -6.86958609e-01, -2.93296986e-01,  1.09006170e+00,\n",
              "         -1.20884946e+00, -1.25232256e-01, -1.01554410e-01,\n",
              "          0.00000000e+00,  3.15896874e-01,  1.28626508e-01,\n",
              "         -1.52464419e+00, -1.94084336e+00, -9.34063312e-01,\n",
              "         -4.91604138e-01, -2.97623638e-01,  3.13748428e-02,\n",
              "          6.72535263e-02,  2.27810023e-01, -4.05045019e-01,\n",
              "         -4.11225870e-02, -2.40169581e-01, -6.58586513e-01,\n",
              "          9.18417803e-02,  3.23622015e-01,  3.87395083e-02,\n",
              "         -2.12273241e-01, -1.73976929e-01, -2.97195723e-01,\n",
              "          4.70990995e-01, -1.98719718e-01, -7.00834778e-02,\n",
              "         -1.23108429e-01]]))"
            ]
          },
          "metadata": {
            "tags": []
          },
          "execution_count": 31
        }
      ]
    },
    {
      "cell_type": "code",
      "metadata": {
        "id": "JSKBa2UM4d_u",
        "colab_type": "code",
        "outputId": "396c6b2a-edff-4bf3-ac47-6fa0b06d3343",
        "colab": {
          "base_uri": "https://localhost:8080/",
          "height": 34
        }
      },
      "source": [
        "log_reg.coef_.shape"
      ],
      "execution_count": 0,
      "outputs": [
        {
          "output_type": "execute_result",
          "data": {
            "text/plain": [
              "(10, 64)"
            ]
          },
          "metadata": {
            "tags": []
          },
          "execution_count": 34
        }
      ]
    },
    {
      "cell_type": "code",
      "metadata": {
        "id": "LZ1UAfxt4pSB",
        "colab_type": "code",
        "outputId": "e72543c9-a832-4d90-a2c9-8e0dcb416970",
        "colab": {
          "base_uri": "https://localhost:8080/",
          "height": 386
        }
      },
      "source": [
        "prediction = log_reg.predict(X_test_scaled)\n",
        "prediction"
      ],
      "execution_count": 0,
      "outputs": [
        {
          "output_type": "execute_result",
          "data": {
            "text/plain": [
              "array([2, 8, 2, 6, 6, 7, 1, 9, 8, 5, 2, 8, 6, 6, 6, 6, 1, 0, 5, 8, 8, 7,\n",
              "       8, 4, 7, 5, 4, 9, 2, 9, 4, 7, 6, 8, 9, 4, 3, 1, 0, 1, 8, 6, 7, 7,\n",
              "       1, 0, 7, 6, 2, 1, 9, 6, 7, 9, 0, 0, 5, 1, 6, 3, 0, 2, 3, 4, 1, 9,\n",
              "       2, 6, 9, 1, 8, 3, 5, 1, 2, 1, 2, 2, 9, 7, 2, 3, 6, 0, 5, 3, 7, 5,\n",
              "       1, 2, 9, 9, 3, 1, 7, 7, 4, 8, 5, 8, 5, 5, 2, 5, 9, 0, 7, 1, 4, 7,\n",
              "       3, 4, 8, 9, 7, 7, 8, 0, 1, 5, 2, 5, 8, 4, 1, 7, 0, 6, 1, 5, 5, 9,\n",
              "       9, 5, 9, 9, 5, 7, 5, 6, 2, 8, 6, 7, 6, 1, 5, 1, 5, 9, 9, 1, 5, 3,\n",
              "       6, 1, 8, 9, 8, 7, 6, 7, 6, 5, 6, 0, 8, 8, 9, 8, 6, 1, 0, 4, 1, 6,\n",
              "       3, 8, 6, 7, 4, 1, 6, 3, 0, 3, 3, 3, 0, 7, 7, 5, 7, 8, 0, 7, 1, 9,\n",
              "       6, 4, 5, 0, 1, 4, 6, 4, 3, 3, 0, 9, 5, 9, 2, 1, 4, 2, 1, 6, 8, 9,\n",
              "       2, 4, 9, 3, 7, 6, 2, 3, 3, 1, 6, 9, 3, 6, 3, 2, 2, 0, 7, 6, 1, 1,\n",
              "       9, 7, 2, 7, 8, 5, 5, 7, 5, 3, 3, 7, 2, 7, 5, 5, 7, 0, 9, 1, 6, 5,\n",
              "       9, 7, 4, 3, 8, 0, 3, 6, 4, 6, 3, 2, 6, 8, 8, 8, 4, 6, 7, 5, 2, 4,\n",
              "       5, 3, 2, 4, 6, 9, 4, 5, 4, 3, 4, 6, 2, 9, 0, 6, 7, 2, 0, 9, 6, 0,\n",
              "       4, 2, 0, 7, 8, 8, 5, 7, 8, 2, 8, 4, 3, 7, 2, 6, 9, 1, 5, 1, 0, 8,\n",
              "       2, 8, 9, 5, 6, 2, 2, 7, 2, 1, 5, 1, 6, 4, 5, 0, 9, 4, 1, 1, 7, 0,\n",
              "       8, 9, 0, 5, 4, 3, 8, 8, 6, 5, 3, 4, 4, 4, 8, 8, 7, 0, 9, 6, 3, 5,\n",
              "       2, 3, 0, 8, 2, 3, 1, 3, 3, 0, 0, 4, 6, 0, 7, 7, 6, 2, 0, 4, 4, 2,\n",
              "       3, 7, 1, 9, 8, 6, 8, 5, 6, 2, 2, 3, 1, 7, 7, 8, 0, 3, 3, 2, 1, 5,\n",
              "       5, 9, 1, 3, 7, 0, 0, 3, 0, 4, 5, 9, 3, 3, 4, 3, 1, 8, 9, 8, 3, 6,\n",
              "       2, 1, 6, 2, 1, 7, 5, 5, 1, 9])"
            ]
          },
          "metadata": {
            "tags": []
          },
          "execution_count": 36
        }
      ]
    },
    {
      "cell_type": "code",
      "metadata": {
        "id": "NjXpR-Bj5FDU",
        "colab_type": "code",
        "outputId": "d0a5f04b-053d-457a-d170-b77dd9c61a68",
        "colab": {
          "base_uri": "https://localhost:8080/",
          "height": 896
        }
      },
      "source": [
        "prediction == y_test"
      ],
      "execution_count": 0,
      "outputs": [
        {
          "output_type": "execute_result",
          "data": {
            "text/plain": [
              "array([ True,  True,  True,  True,  True,  True,  True,  True,  True,\n",
              "        True,  True,  True,  True,  True,  True,  True,  True,  True,\n",
              "        True,  True,  True,  True,  True,  True,  True,  True,  True,\n",
              "        True,  True,  True,  True,  True,  True,  True,  True,  True,\n",
              "        True,  True,  True,  True,  True,  True,  True,  True,  True,\n",
              "        True,  True,  True,  True,  True,  True,  True,  True,  True,\n",
              "        True,  True,  True,  True,  True,  True,  True,  True,  True,\n",
              "        True,  True,  True,  True,  True,  True,  True,  True,  True,\n",
              "        True,  True,  True, False,  True,  True,  True,  True,  True,\n",
              "        True,  True,  True,  True,  True,  True,  True,  True,  True,\n",
              "        True,  True,  True,  True,  True,  True,  True,  True,  True,\n",
              "        True,  True,  True,  True,  True,  True,  True,  True,  True,\n",
              "        True,  True,  True,  True,  True,  True,  True, False,  True,\n",
              "       False, False,  True,  True,  True,  True,  True, False,  True,\n",
              "        True,  True,  True,  True, False,  True,  True,  True,  True,\n",
              "        True,  True,  True,  True,  True,  True,  True,  True, False,\n",
              "        True,  True,  True,  True,  True,  True,  True,  True,  True,\n",
              "        True,  True,  True,  True,  True,  True,  True,  True,  True,\n",
              "        True,  True,  True,  True,  True,  True,  True,  True,  True,\n",
              "        True,  True,  True,  True,  True,  True,  True,  True,  True,\n",
              "        True, False,  True,  True,  True,  True,  True,  True,  True,\n",
              "        True,  True,  True,  True,  True,  True,  True, False,  True,\n",
              "        True,  True,  True,  True,  True,  True,  True,  True,  True,\n",
              "        True,  True,  True,  True,  True,  True,  True,  True,  True,\n",
              "        True,  True,  True,  True,  True,  True,  True,  True,  True,\n",
              "        True,  True,  True,  True,  True,  True,  True,  True,  True,\n",
              "        True,  True,  True,  True,  True,  True,  True,  True,  True,\n",
              "        True,  True,  True,  True,  True,  True,  True,  True, False,\n",
              "        True,  True,  True,  True,  True,  True,  True,  True,  True,\n",
              "        True,  True,  True,  True,  True,  True,  True,  True,  True,\n",
              "        True,  True,  True,  True,  True,  True,  True,  True,  True,\n",
              "        True,  True,  True,  True,  True,  True,  True,  True,  True,\n",
              "        True,  True,  True,  True,  True,  True,  True,  True,  True,\n",
              "        True,  True,  True,  True, False,  True,  True,  True,  True,\n",
              "        True,  True,  True,  True,  True,  True, False,  True,  True,\n",
              "       False,  True,  True,  True,  True,  True,  True,  True,  True,\n",
              "        True,  True,  True,  True,  True,  True,  True, False,  True,\n",
              "        True,  True, False,  True,  True,  True,  True,  True,  True,\n",
              "        True,  True,  True,  True,  True,  True,  True,  True,  True,\n",
              "        True,  True,  True,  True,  True,  True,  True,  True,  True,\n",
              "        True,  True,  True,  True,  True,  True,  True,  True,  True,\n",
              "        True,  True,  True,  True,  True,  True,  True,  True,  True,\n",
              "       False,  True,  True,  True,  True,  True,  True,  True,  True,\n",
              "        True,  True,  True,  True,  True,  True,  True,  True,  True,\n",
              "        True,  True, False,  True,  True,  True,  True,  True,  True,\n",
              "        True,  True,  True,  True,  True,  True,  True,  True,  True,\n",
              "        True,  True,  True,  True,  True,  True,  True,  True,  True,\n",
              "        True,  True, False,  True,  True,  True,  True,  True,  True,\n",
              "        True,  True,  True,  True,  True,  True,  True,  True,  True,\n",
              "        True,  True,  True,  True,  True,  True,  True,  True,  True])"
            ]
          },
          "metadata": {
            "tags": []
          },
          "execution_count": 38
        }
      ]
    },
    {
      "cell_type": "code",
      "metadata": {
        "id": "Wbm4JxQY5Kw6",
        "colab_type": "code",
        "colab": {}
      },
      "source": [
        ""
      ],
      "execution_count": 0,
      "outputs": []
    },
    {
      "cell_type": "code",
      "metadata": {
        "id": "K50yFF0h5BAK",
        "colab_type": "code",
        "outputId": "dbaa0c67-3a10-482e-e954-183de3ce3033",
        "colab": {
          "base_uri": "https://localhost:8080/",
          "height": 386
        }
      },
      "source": [
        "y_test"
      ],
      "execution_count": 0,
      "outputs": [
        {
          "output_type": "execute_result",
          "data": {
            "text/plain": [
              "array([2, 8, 2, 6, 6, 7, 1, 9, 8, 5, 2, 8, 6, 6, 6, 6, 1, 0, 5, 8, 8, 7,\n",
              "       8, 4, 7, 5, 4, 9, 2, 9, 4, 7, 6, 8, 9, 4, 3, 1, 0, 1, 8, 6, 7, 7,\n",
              "       1, 0, 7, 6, 2, 1, 9, 6, 7, 9, 0, 0, 5, 1, 6, 3, 0, 2, 3, 4, 1, 9,\n",
              "       2, 6, 9, 1, 8, 3, 5, 1, 2, 8, 2, 2, 9, 7, 2, 3, 6, 0, 5, 3, 7, 5,\n",
              "       1, 2, 9, 9, 3, 1, 7, 7, 4, 8, 5, 8, 5, 5, 2, 5, 9, 0, 7, 1, 4, 7,\n",
              "       3, 4, 8, 9, 7, 9, 8, 2, 6, 5, 2, 5, 8, 4, 8, 7, 0, 6, 1, 5, 9, 9,\n",
              "       9, 5, 9, 9, 5, 7, 5, 6, 2, 8, 6, 9, 6, 1, 5, 1, 5, 9, 9, 1, 5, 3,\n",
              "       6, 1, 8, 9, 8, 7, 6, 7, 6, 5, 6, 0, 8, 8, 9, 8, 6, 1, 0, 4, 1, 6,\n",
              "       3, 8, 6, 7, 4, 5, 6, 3, 0, 3, 3, 3, 0, 7, 7, 5, 7, 8, 0, 7, 8, 9,\n",
              "       6, 4, 5, 0, 1, 4, 6, 4, 3, 3, 0, 9, 5, 9, 2, 1, 4, 2, 1, 6, 8, 9,\n",
              "       2, 4, 9, 3, 7, 6, 2, 3, 3, 1, 6, 9, 3, 6, 3, 2, 2, 0, 7, 6, 1, 1,\n",
              "       9, 7, 2, 7, 8, 5, 5, 7, 5, 2, 3, 7, 2, 7, 5, 5, 7, 0, 9, 1, 6, 5,\n",
              "       9, 7, 4, 3, 8, 0, 3, 6, 4, 6, 3, 2, 6, 8, 8, 8, 4, 6, 7, 5, 2, 4,\n",
              "       5, 3, 2, 4, 6, 9, 4, 5, 4, 3, 4, 6, 2, 9, 0, 1, 7, 2, 0, 9, 6, 0,\n",
              "       4, 2, 0, 7, 9, 8, 5, 4, 8, 2, 8, 4, 3, 7, 2, 6, 9, 1, 5, 1, 0, 8,\n",
              "       2, 1, 9, 5, 6, 8, 2, 7, 2, 1, 5, 1, 6, 4, 5, 0, 9, 4, 1, 1, 7, 0,\n",
              "       8, 9, 0, 5, 4, 3, 8, 8, 6, 5, 3, 4, 4, 4, 8, 8, 7, 0, 9, 6, 3, 5,\n",
              "       2, 3, 0, 8, 3, 3, 1, 3, 3, 0, 0, 4, 6, 0, 7, 7, 6, 2, 0, 4, 4, 2,\n",
              "       3, 7, 8, 9, 8, 6, 8, 5, 6, 2, 2, 3, 1, 7, 7, 8, 0, 3, 3, 2, 1, 5,\n",
              "       5, 9, 1, 3, 7, 0, 0, 7, 0, 4, 5, 9, 3, 3, 4, 3, 1, 8, 9, 8, 3, 6,\n",
              "       2, 1, 6, 2, 1, 7, 5, 5, 1, 9])"
            ]
          },
          "metadata": {
            "tags": []
          },
          "execution_count": 37
        }
      ]
    },
    {
      "cell_type": "code",
      "metadata": {
        "id": "wwfjRkOX5NHF",
        "colab_type": "code",
        "colab": {}
      },
      "source": [
        "from sklearn.metrics import confusion_matrix"
      ],
      "execution_count": 0,
      "outputs": []
    },
    {
      "cell_type": "code",
      "metadata": {
        "id": "7kFoPw_V5fXJ",
        "colab_type": "code",
        "outputId": "931491ec-c486-46b9-e499-bed662ac1cbe",
        "colab": {
          "base_uri": "https://localhost:8080/",
          "height": 193
        }
      },
      "source": [
        "confusion = confusion_matrix(prediction,y_test)\n",
        "confusion"
      ],
      "execution_count": 0,
      "outputs": [
        {
          "output_type": "execute_result",
          "data": {
            "text/plain": [
              "array([[37,  0,  1,  0,  0,  0,  0,  0,  0,  0],\n",
              "       [ 0, 41,  0,  0,  0,  1,  1,  0,  4,  0],\n",
              "       [ 0,  0, 42,  1,  0,  0,  0,  0,  1,  0],\n",
              "       [ 0,  0,  1, 44,  0,  0,  0,  1,  0,  0],\n",
              "       [ 0,  0,  0,  0, 37,  0,  0,  0,  0,  0],\n",
              "       [ 0,  0,  0,  0,  0, 47,  0,  0,  0,  1],\n",
              "       [ 0,  1,  0,  0,  0,  0, 51,  0,  0,  0],\n",
              "       [ 0,  0,  0,  0,  1,  0,  0, 47,  0,  2],\n",
              "       [ 0,  1,  0,  0,  0,  0,  0,  0, 43,  1],\n",
              "       [ 0,  0,  0,  0,  0,  0,  0,  0,  0, 43]])"
            ]
          },
          "metadata": {
            "tags": []
          },
          "execution_count": 40
        }
      ]
    },
    {
      "cell_type": "code",
      "metadata": {
        "id": "jgm-q4Wo5yr8",
        "colab_type": "code",
        "outputId": "57727712-4133-4b3c-b056-5837d625d091",
        "colab": {
          "base_uri": "https://localhost:8080/",
          "height": 34
        }
      },
      "source": [
        "log_reg.score(X_test_scaled,y_test)"
      ],
      "execution_count": 0,
      "outputs": [
        {
          "output_type": "execute_result",
          "data": {
            "text/plain": [
              "0.96"
            ]
          },
          "metadata": {
            "tags": []
          },
          "execution_count": 41
        }
      ]
    }
  ]
}