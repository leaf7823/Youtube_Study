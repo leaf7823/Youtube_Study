{
  "nbformat": 4,
  "nbformat_minor": 0,
  "metadata": {
    "colab": {
      "name": "第8回【機械学習】サポートベクトルマシン（中編） ラグランジュの未定乗数法、双体問題.ipynb",
      "version": "0.3.2",
      "provenance": [],
      "collapsed_sections": [],
      "include_colab_link": true
    },
    "kernelspec": {
      "name": "python3",
      "display_name": "Python 3"
    }
  },
  "cells": [
    {
      "cell_type": "markdown",
      "metadata": {
        "id": "view-in-github",
        "colab_type": "text"
      },
      "source": [
        "<a href=\"https://colab.research.google.com/github/leaf7823/Youtube_Study/blob/master/%E7%AC%AC8%E5%9B%9E%E3%80%90%E6%A9%9F%E6%A2%B0%E5%AD%A6%E7%BF%92%E3%80%91%E3%82%B5%E3%83%9D%E3%83%BC%E3%83%88%E3%83%99%E3%82%AF%E3%83%88%E3%83%AB%E3%83%9E%E3%82%B7%E3%83%B3%EF%BC%88%E4%B8%AD%E7%B7%A8%EF%BC%89_%E3%83%A9%E3%82%B0%E3%83%A9%E3%83%B3%E3%82%B8%E3%83%A5%E3%81%AE%E6%9C%AA%E5%AE%9A%E4%B9%97%E6%95%B0%E6%B3%95%E3%80%81%E5%8F%8C%E4%BD%93%E5%95%8F%E9%A1%8C.ipynb\" target=\"_parent\"><img src=\"https://colab.research.google.com/assets/colab-badge.svg\" alt=\"Open In Colab\"/></a>"
      ]
    },
    {
      "cell_type": "code",
      "metadata": {
        "id": "mJmVVwrJ_vdz",
        "colab_type": "code",
        "colab": {}
      },
      "source": [
        "!pip install mglearn "
      ],
      "execution_count": 0,
      "outputs": []
    },
    {
      "cell_type": "code",
      "metadata": {
        "id": "sAXbagDBs82B",
        "colab_type": "code",
        "colab": {}
      },
      "source": [
        "import mglearn\n",
        "import matplotlib.pyplot as plt\n",
        "from sklearn.model_selection import train_test_split\n",
        "from sklearn.svm import LinearSVC\n",
        "from sklearn .datasets import load_iris"
      ],
      "execution_count": 0,
      "outputs": []
    },
    {
      "cell_type": "code",
      "metadata": {
        "id": "jWD0ZhEf8Y7W",
        "colab_type": "code",
        "colab": {}
      },
      "source": [
        "iris = load_iris()\n",
        "\n"
      ],
      "execution_count": 0,
      "outputs": []
    },
    {
      "cell_type": "code",
      "metadata": {
        "id": "YKOgDUTF9DOi",
        "colab_type": "code",
        "colab": {}
      },
      "source": [
        "iris"
      ],
      "execution_count": 0,
      "outputs": []
    },
    {
      "cell_type": "code",
      "metadata": {
        "id": "Hsn1c_QM9Im0",
        "colab_type": "code",
        "colab": {}
      },
      "source": [
        "X = iris.data[50:, 2:]\n",
        "y = iris.target[50:] -1"
      ],
      "execution_count": 0,
      "outputs": []
    },
    {
      "cell_type": "code",
      "metadata": {
        "id": "rvW869DXKrZ_",
        "colab_type": "code",
        "colab": {}
      },
      "source": [
        "X"
      ],
      "execution_count": 0,
      "outputs": []
    },
    {
      "cell_type": "code",
      "metadata": {
        "id": "Er69zGDKLDqE",
        "colab_type": "code",
        "colab": {}
      },
      "source": [
        "y"
      ],
      "execution_count": 0,
      "outputs": []
    },
    {
      "cell_type": "code",
      "metadata": {
        "id": "uTz7JGrGA6Pb",
        "colab_type": "code",
        "colab": {}
      },
      "source": [
        "mglearn.discrete_scatter(X[:, 0], X[:, 1], y)\n",
        "plt.legend(['versicolor', 'virginica'], loc='best')\n",
        "plt.show()"
      ],
      "execution_count": 0,
      "outputs": []
    },
    {
      "cell_type": "code",
      "metadata": {
        "id": "Kd_JKbp3LRX_",
        "colab_type": "code",
        "colab": {}
      },
      "source": [
        "X_train,X_test,y_train,y_test = train_test_split(X,y, stratify=y,random_state=0)"
      ],
      "execution_count": 0,
      "outputs": []
    },
    {
      "cell_type": "code",
      "metadata": {
        "id": "r6HSu0MsQT8H",
        "colab_type": "code",
        "colab": {}
      },
      "source": [
        "svm = LinearSVC().fit(X_train,y_train)\n",
        "\n",
        "def plot_sep(model):\n",
        "    plt.figure(figsize=(10,6))\n",
        "    mglearn.plots.plot_2d_separator(model,X)\n",
        "    mglearn.discrete_scatter(X[:,0],X[:,1],y)\n",
        "    plt.xlabel('Petal Length')\n",
        "    plt.ylabel('Petal Width')\n",
        "    plt.xlim(2.8, 7.0)\n",
        "    plt.ylim(0.8,2.6)\n",
        "    plt.show()\n",
        "    \n",
        "plot_sep(svm)"
      ],
      "execution_count": 0,
      "outputs": []
    },
    {
      "cell_type": "code",
      "metadata": {
        "id": "5KOxeVEciOOc",
        "colab_type": "code",
        "colab": {}
      },
      "source": [
        "svm_100 = LinearSVC(C=100).fit(X_train,y_train)\n",
        "\n",
        "plot_sep(svm_100)"
      ],
      "execution_count": 0,
      "outputs": []
    },
    {
      "cell_type": "code",
      "metadata": {
        "id": "0PMQn1VOjK0Z",
        "colab_type": "code",
        "colab": {}
      },
      "source": [
        "print(\"Score on training set: {:.2f}\".format(svm.score(X_train,y_train)))\n",
        "print(\"Score on test set: {:.2f}\".format(svm.score(X_test,y_test)))"
      ],
      "execution_count": 0,
      "outputs": []
    },
    {
      "cell_type": "code",
      "metadata": {
        "id": "VJyoC240j6yQ",
        "colab_type": "code",
        "colab": {}
      },
      "source": [
        "print(\"Score on training set: {:.2f}\".format(svm_100.score(X_train,y_train)))\n",
        "print(\"Score on test set: {:.2f}\".format(svm_100.score(X_test,y_test)))"
      ],
      "execution_count": 0,
      "outputs": []
    },
    {
      "cell_type": "code",
      "metadata": {
        "id": "CcEtcvn9lY3t",
        "colab_type": "code",
        "colab": {}
      },
      "source": [
        "svm_001 = LinearSVC(C=0.01).fit(X_train,y_train)\n",
        "\n",
        "plot_sep(svm_001)"
      ],
      "execution_count": 0,
      "outputs": []
    },
    {
      "cell_type": "code",
      "metadata": {
        "id": "RHg82PAMlj5E",
        "colab_type": "code",
        "colab": {}
      },
      "source": [
        "print(\"Score on training set: {:.2f}\".format(svm_001.score(X_train,y_train)))\n",
        "print(\"Score on test set: {:.2f}\".format(svm_001.score(X_test,y_test)))"
      ],
      "execution_count": 0,
      "outputs": []
    },
    {
      "cell_type": "code",
      "metadata": {
        "id": "XiKN1Mpvl11t",
        "colab_type": "code",
        "colab": {}
      },
      "source": [
        "svm_200 = LinearSVC(C=200).fit(X_train,y_train)\n",
        "\n",
        "plot_sep(svm_200)"
      ],
      "execution_count": 0,
      "outputs": []
    },
    {
      "cell_type": "code",
      "metadata": {
        "id": "jh6ZJpbNl8Do",
        "colab_type": "code",
        "colab": {}
      },
      "source": [
        "print(\"Score on training set: {:.2f}\".format(svm_200.score(X_train,y_train)))\n",
        "print(\"Score on test set: {:.2f}\".format(svm_200.score(X_test,y_test)))"
      ],
      "execution_count": 0,
      "outputs": []
    }
  ]
}