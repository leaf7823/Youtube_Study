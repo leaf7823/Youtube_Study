{
  "nbformat": 4,
  "nbformat_minor": 0,
  "metadata": {
    "colab": {
      "name": "第13回【機械学習】モデルの評価と選択  交差検証、さまざまな評価基準.ipynb",
      "version": "0.3.2",
      "provenance": [],
      "include_colab_link": true
    },
    "kernelspec": {
      "name": "python3",
      "display_name": "Python 3"
    },
    "accelerator": "GPU"
  },
  "cells": [
    {
      "cell_type": "markdown",
      "metadata": {
        "id": "view-in-github",
        "colab_type": "text"
      },
      "source": [
        "<a href=\"https://colab.research.google.com/github/leaf7823/Youtube_Study/blob/master/%E7%AC%AC13%E5%9B%9E%E3%80%90%E6%A9%9F%E6%A2%B0%E5%AD%A6%E7%BF%92%E3%80%91%E3%83%A2%E3%83%87%E3%83%AB%E3%81%AE%E8%A9%95%E4%BE%A1%E3%81%A8%E9%81%B8%E6%8A%9E_%E4%BA%A4%E5%B7%AE%E6%A4%9C%E8%A8%BC%E3%80%81%E3%81%95%E3%81%BE%E3%81%96%E3%81%BE%E3%81%AA%E8%A9%95%E4%BE%A1%E5%9F%BA%E6%BA%96.ipynb\" target=\"_parent\"><img src=\"https://colab.research.google.com/assets/colab-badge.svg\" alt=\"Open In Colab\"/></a>"
      ]
    },
    {
      "cell_type": "code",
      "metadata": {
        "id": "BkbqwsrTK7I1",
        "colab_type": "code",
        "outputId": "8a162f67-b259-4fbf-fa1e-9c97b1c503df",
        "colab": {
          "base_uri": "https://localhost:8080/",
          "height": 336
        }
      },
      "source": [
        "!pip install mglearn \n",
        "import matplotlib.pyplot as plt"
      ],
      "execution_count": 0,
      "outputs": [
        {
          "output_type": "stream",
          "text": [
            "Requirement already satisfied: mglearn in /usr/local/lib/python3.6/dist-packages (0.1.7)\n",
            "Requirement already satisfied: pandas in /usr/local/lib/python3.6/dist-packages (from mglearn) (0.24.2)\n",
            "Requirement already satisfied: pillow in /usr/local/lib/python3.6/dist-packages (from mglearn) (4.3.0)\n",
            "Requirement already satisfied: matplotlib in /usr/local/lib/python3.6/dist-packages (from mglearn) (3.0.3)\n",
            "Requirement already satisfied: imageio in /usr/local/lib/python3.6/dist-packages (from mglearn) (2.4.1)\n",
            "Requirement already satisfied: cycler in /usr/local/lib/python3.6/dist-packages (from mglearn) (0.10.0)\n",
            "Requirement already satisfied: scikit-learn in /usr/local/lib/python3.6/dist-packages (from mglearn) (0.21.3)\n",
            "Requirement already satisfied: numpy in /usr/local/lib/python3.6/dist-packages (from mglearn) (1.16.4)\n",
            "Requirement already satisfied: python-dateutil>=2.5.0 in /usr/local/lib/python3.6/dist-packages (from pandas->mglearn) (2.5.3)\n",
            "Requirement already satisfied: pytz>=2011k in /usr/local/lib/python3.6/dist-packages (from pandas->mglearn) (2018.9)\n",
            "Requirement already satisfied: olefile in /usr/local/lib/python3.6/dist-packages (from pillow->mglearn) (0.46)\n",
            "Requirement already satisfied: pyparsing!=2.0.4,!=2.1.2,!=2.1.6,>=2.0.1 in /usr/local/lib/python3.6/dist-packages (from matplotlib->mglearn) (2.4.2)\n",
            "Requirement already satisfied: kiwisolver>=1.0.1 in /usr/local/lib/python3.6/dist-packages (from matplotlib->mglearn) (1.1.0)\n",
            "Requirement already satisfied: six in /usr/local/lib/python3.6/dist-packages (from cycler->mglearn) (1.12.0)\n",
            "Requirement already satisfied: scipy>=0.17.0 in /usr/local/lib/python3.6/dist-packages (from scikit-learn->mglearn) (1.3.0)\n",
            "Requirement already satisfied: joblib>=0.11 in /usr/local/lib/python3.6/dist-packages (from scikit-learn->mglearn) (0.13.2)\n",
            "Requirement already satisfied: setuptools in /usr/local/lib/python3.6/dist-packages (from kiwisolver>=1.0.1->matplotlib->mglearn) (41.0.1)\n"
          ],
          "name": "stdout"
        }
      ]
    },
    {
      "cell_type": "code",
      "metadata": {
        "id": "02dmklfFLOJu",
        "colab_type": "code",
        "outputId": "9afcd9c2-7159-4554-c636-c29457aede55",
        "colab": {
          "base_uri": "https://localhost:8080/",
          "height": 107
        }
      },
      "source": [
        "import mglearn\n",
        "import numpy as np\n",
        "import matplotlib.pyplot as plt\n",
        "from sklearn .datasets import make_moons\n",
        "from sklearn.model_selection import train_test_split\n",
        "from matplotlib.colors import ListedColormap"
      ],
      "execution_count": 0,
      "outputs": [
        {
          "output_type": "stream",
          "text": [
            "/usr/local/lib/python3.6/dist-packages/sklearn/externals/six.py:31: DeprecationWarning: The module is deprecated in version 0.21 and will be removed in version 0.23 since we've dropped support for Python 2.7. Please rely on the official version of six (https://pypi.org/project/six/).\n",
            "  \"(https://pypi.org/project/six/).\", DeprecationWarning)\n",
            "/usr/local/lib/python3.6/dist-packages/sklearn/externals/joblib/__init__.py:15: DeprecationWarning: sklearn.externals.joblib is deprecated in 0.21 and will be removed in 0.23. Please import this functionality directly from joblib, which can be installed with: pip install joblib. If this warning is raised when loading pickled models, you may need to re-serialize those models with scikit-learn 0.21+.\n",
            "  warnings.warn(msg, category=DeprecationWarning)\n"
          ],
          "name": "stderr"
        }
      ]
    },
    {
      "cell_type": "code",
      "metadata": {
        "id": "Z-oXRbQ8TyQP",
        "colab_type": "code",
        "colab": {}
      },
      "source": [
        "moons = make_moons(n_samples=200, noise=0.2, random_state=0)\n",
        "X = moons[0]\n",
        "y = moons[1]"
      ],
      "execution_count": 0,
      "outputs": []
    },
    {
      "cell_type": "code",
      "metadata": {
        "id": "iJB1_Z0uUi1G",
        "colab_type": "code",
        "outputId": "727e999c-bbee-4ec1-ad0c-f8bb21e1c1ba",
        "colab": {
          "base_uri": "https://localhost:8080/",
          "height": 539
        }
      },
      "source": [
        "from matplotlib.colors import ListedColormap\n",
        "\n",
        "def plot_decision_boundary(model, X, y, margin=0.3):\n",
        "    _x1 = np.linspace(X[:, 0].min()-margin,X[:, 0].max()+margin, 100)\n",
        "    _x2 = np.linspace(X[:, 1].min()-margin,X[:, 1].max()+margin, 100)\n",
        "    x1, x2 = np.meshgrid(_x1, _x2)\n",
        "    X_new = np.c_[x1.ravel(), x2.ravel()]\n",
        "    y_pred = model.predict(X_new).reshape(x1.shape)\n",
        "    custom_cmap = ListedColormap(['mediumblue', 'orangered'])\n",
        "    \n",
        "    plt.contourf(x1, x2, y_pred, alpha=0.3, cmap=custom_cmap)\n",
        "\n",
        "def plot_aaa(X, y):\n",
        "    plt.plot(X[:, 0][y==0], X[:, 1][y==0], \"bo\",  ms=15)\n",
        "    plt.plot(X[:, 0][y==1], X[:, 1][y==1], \"r^\",  ms=15)\n",
        "    plt.xlabel(\"$x_0$\", fontsize=30)\n",
        "    plt.ylabel(\"$x_1$\", fontsize=30, rotation=0)  \n",
        "\n",
        "plt.figure(figsize=(12, 8))\n",
        "plot_aaa(X, y)\n",
        "\n",
        "plt.show()"
      ],
      "execution_count": 0,
      "outputs": [
        {
          "output_type": "display_data",
          "data": {
            "image/png": "[encoded data removed]",
            "text/plain": [
              "<Figure size 864x576 with 1 Axes>"
            ]
          },
          "metadata": {
            "tags": []
          }
        }
      ]
    },
    {
      "cell_type": "code",
      "metadata": {
        "id": "YzSOhVwDYaFn",
        "colab_type": "code",
        "colab": {}
      },
      "source": [
        "from sklearn.model_selection import train_test_split\n",
        "from sklearn.linear_model import LogisticRegression\n",
        "from sklearn.tree import DecisionTreeClassifier"
      ],
      "execution_count": 0,
      "outputs": []
    },
    {
      "cell_type": "code",
      "metadata": {
        "id": "ymAZFcD8Zbk7",
        "colab_type": "code",
        "colab": {}
      },
      "source": [
        "X_train, X_test, y_train, y_test = train_test_split(X, y, random_state=0)"
      ],
      "execution_count": 0,
      "outputs": []
    },
    {
      "cell_type": "code",
      "metadata": {
        "id": "YMo6SJHIZ7oK",
        "colab_type": "code",
        "outputId": "83bcef7d-3a73-48e3-b108-4a88213b9252",
        "colab": {
          "base_uri": "https://localhost:8080/",
          "height": 72
        }
      },
      "source": [
        "log_reg = LogisticRegression().fit(X_train,y_train)\n",
        "tree_clf = DecisionTreeClassifier().fit(X_train,y_train)\n"
      ],
      "execution_count": 0,
      "outputs": [
        {
          "output_type": "stream",
          "text": [
            "/usr/local/lib/python3.6/dist-packages/sklearn/linear_model/logistic.py:432: FutureWarning: Default solver will be changed to 'lbfgs' in 0.22. Specify a solver to silence this warning.\n",
            "  FutureWarning)\n"
          ],
          "name": "stderr"
        }
      ]
    },
    {
      "cell_type": "code",
      "metadata": {
        "id": "ZWMGIu5zaZVB",
        "colab_type": "code",
        "outputId": "4a69cc25-5b2c-41f1-ef26-04279a3758f7",
        "colab": {
          "base_uri": "https://localhost:8080/",
          "height": 52
        }
      },
      "source": [
        "print(log_reg.score(X_test,y_test))\n",
        "print(tree_clf.score(X_test,y_test))"
      ],
      "execution_count": 0,
      "outputs": [
        {
          "output_type": "stream",
          "text": [
            "0.84\n",
            "0.98\n"
          ],
          "name": "stdout"
        }
      ]
    },
    {
      "cell_type": "code",
      "metadata": {
        "id": "99k5uQnJdjDC",
        "colab_type": "code",
        "outputId": "8d68eea7-854b-4af6-8eca-effd42a2fc72",
        "colab": {
          "base_uri": "https://localhost:8080/",
          "height": 248
        }
      },
      "source": [
        "#交差検証の実装\n",
        "\n",
        "from sklearn.model_selection import KFold, cross_val_score\n",
        "\n",
        "kfold = KFold(n_splits=5,shuffle=True, random_state=0)\n",
        "\n",
        "log_reg_score = cross_val_score(log_reg, X, y, cv=kfold)\n",
        "tree_clf_score = cross_val_score(tree_clf,X, y, cv=kfold)\n",
        "\n",
        "print(log_reg_score)\n",
        "print(tree_clf_score)"
      ],
      "execution_count": 0,
      "outputs": [
        {
          "output_type": "stream",
          "text": [
            "[0.85  0.875 0.875 0.825 0.775]\n",
            "[0.975 0.925 0.95  0.95  0.9  ]\n"
          ],
          "name": "stdout"
        },
        {
          "output_type": "stream",
          "text": [
            "/usr/local/lib/python3.6/dist-packages/sklearn/linear_model/logistic.py:432: FutureWarning: Default solver will be changed to 'lbfgs' in 0.22. Specify a solver to silence this warning.\n",
            "  FutureWarning)\n",
            "/usr/local/lib/python3.6/dist-packages/sklearn/linear_model/logistic.py:432: FutureWarning: Default solver will be changed to 'lbfgs' in 0.22. Specify a solver to silence this warning.\n",
            "  FutureWarning)\n",
            "/usr/local/lib/python3.6/dist-packages/sklearn/linear_model/logistic.py:432: FutureWarning: Default solver will be changed to 'lbfgs' in 0.22. Specify a solver to silence this warning.\n",
            "  FutureWarning)\n",
            "/usr/local/lib/python3.6/dist-packages/sklearn/linear_model/logistic.py:432: FutureWarning: Default solver will be changed to 'lbfgs' in 0.22. Specify a solver to silence this warning.\n",
            "  FutureWarning)\n",
            "/usr/local/lib/python3.6/dist-packages/sklearn/linear_model/logistic.py:432: FutureWarning: Default solver will be changed to 'lbfgs' in 0.22. Specify a solver to silence this warning.\n",
            "  FutureWarning)\n"
          ],
          "name": "stderr"
        }
      ]
    },
    {
      "cell_type": "code",
      "metadata": {
        "id": "kseWjYDLfYcB",
        "colab_type": "code",
        "outputId": "bca6cbdc-e279-4824-cb2c-65e4d71ffb9d",
        "colab": {
          "base_uri": "https://localhost:8080/",
          "height": 52
        }
      },
      "source": [
        "print(log_reg_score.mean())\n",
        "print(tree_clf_score.mean())"
      ],
      "execution_count": 0,
      "outputs": [
        {
          "output_type": "stream",
          "text": [
            "0.8400000000000001\n",
            "0.9400000000000001\n"
          ],
          "name": "stdout"
        }
      ]
    },
    {
      "cell_type": "code",
      "metadata": {
        "id": "UwnmJBsOftsT",
        "colab_type": "code",
        "colab": {}
      },
      "source": [
        "# 混合行列\n",
        "\n",
        "from sklearn.metrics import confusion_matrix"
      ],
      "execution_count": 0,
      "outputs": []
    },
    {
      "cell_type": "code",
      "metadata": {
        "id": "eFOUQwapgGVF",
        "colab_type": "code",
        "outputId": "4fc19be7-93ca-4f22-9fd3-a08799a007f7",
        "colab": {
          "base_uri": "https://localhost:8080/",
          "height": 122
        }
      },
      "source": [
        "y_pred_log_reg = log_reg.predict(X_test)\n",
        "y_pred_tree_clf = tree_clf.predict(X_test)\n",
        "\n",
        "cm_log_reg = confusion_matrix(y_test,y_pred_log_reg)\n",
        "cm_tree_clf = confusion_matrix(y_test,y_pred_tree_clf)\n",
        "\n",
        "print(cm_log_reg)\n",
        "print(\"\\n\")\n",
        "print(cm_tree_clf)"
      ],
      "execution_count": 0,
      "outputs": [
        {
          "output_type": "stream",
          "text": [
            "[[23  5]\n",
            " [ 3 19]]\n",
            "\n",
            "\n",
            "[[28  0]\n",
            " [ 1 21]]\n"
          ],
          "name": "stdout"
        }
      ]
    },
    {
      "cell_type": "code",
      "metadata": {
        "id": "jx_tGKt8hNll",
        "colab_type": "code",
        "colab": {}
      },
      "source": [
        "#様々な評価基準\n",
        "\n",
        "from sklearn.metrics import precision_score, recall_score, f1_score"
      ],
      "execution_count": 0,
      "outputs": []
    },
    {
      "cell_type": "code",
      "metadata": {
        "id": "tS4hHvmUhiZu",
        "colab_type": "code",
        "outputId": "40294a2c-19fd-4e69-f311-bce98158c8c8",
        "colab": {
          "base_uri": "https://localhost:8080/",
          "height": 122
        }
      },
      "source": [
        "print(\"precision log_reg:\\n\", precision_score(y_test,y_pred_log_reg))\n",
        "print(\"\\n\")\n",
        "print(\"precision tree_clf:\\n\", precision_score(y_test,y_pred_tree_clf))"
      ],
      "execution_count": 0,
      "outputs": [
        {
          "output_type": "stream",
          "text": [
            "precision log_reg:\n",
            " 0.7916666666666666\n",
            "\n",
            "\n",
            "precision tree_clf:\n",
            " 1.0\n"
          ],
          "name": "stdout"
        }
      ]
    },
    {
      "cell_type": "code",
      "metadata": {
        "id": "lIV29Q7piS4g",
        "colab_type": "code",
        "outputId": "e08e4fc1-f40b-44f5-cc65-db26475b8ee2",
        "colab": {
          "base_uri": "https://localhost:8080/",
          "height": 122
        }
      },
      "source": [
        "print(\"recall log_reg:\\n\", recall_score(y_test,y_pred_log_reg))\n",
        "print(\"\\n\")\n",
        "print(\"recall tree_clf:\\n\", recall_score(y_test,y_pred_tree_clf))"
      ],
      "execution_count": 0,
      "outputs": [
        {
          "output_type": "stream",
          "text": [
            "recall log_reg:\n",
            " 0.8636363636363636\n",
            "\n",
            "\n",
            "recall tree_clf:\n",
            " 0.9545454545454546\n"
          ],
          "name": "stdout"
        }
      ]
    },
    {
      "cell_type": "code",
      "metadata": {
        "id": "cGix4bz0iZjo",
        "colab_type": "code",
        "outputId": "d66a0ffb-d339-443f-d268-db37842facc1",
        "colab": {
          "base_uri": "https://localhost:8080/",
          "height": 122
        }
      },
      "source": [
        "print(\"f1 log_reg:\\n\", f1_score(y_test,y_pred_log_reg))\n",
        "print(\"\\n\")\n",
        "print(\"f1 tree_clf:\\n\", f1_score(y_test,y_pred_tree_clf))"
      ],
      "execution_count": 0,
      "outputs": [
        {
          "output_type": "stream",
          "text": [
            "f1 log_reg:\n",
            " 0.8260869565217391\n",
            "\n",
            "\n",
            "f1 tree_clf:\n",
            " 0.9767441860465117\n"
          ],
          "name": "stdout"
        }
      ]
    },
    {
      "cell_type": "code",
      "metadata": {
        "id": "CXG80Ufmigh6",
        "colab_type": "code",
        "colab": {}
      },
      "source": [
        "from sklearn.metrics import precision_recall_curve\n"
      ],
      "execution_count": 0,
      "outputs": []
    },
    {
      "cell_type": "code",
      "metadata": {
        "id": "SLim68Hnis2R",
        "colab_type": "code",
        "outputId": "e8c99fd9-ceba-45ff-e6c0-70f69a6d6c7a",
        "colab": {
          "base_uri": "https://localhost:8080/",
          "height": 520
        }
      },
      "source": [
        "precision, recall, threshold = precision_recall_curve(y_test, y_pred_tree_clf)\n",
        "\n",
        "plt.figure(figsize=(12, 8))\n",
        "plt.plot(precision, recall)\n",
        "plt.xlabel(\"Precision\")\n",
        "plt.ylabel(\"Recall\")\n",
        "plt.show()"
      ],
      "execution_count": 0,
      "outputs": [
        {
          "output_type": "display_data",
          "data": {
            "image/png": "[encoded data removed]",
            "text/plain": [
              "<Figure size 864x576 with 1 Axes>"
            ]
          },
          "metadata": {
            "tags": []
          }
        }
      ]
    },
    {
      "cell_type": "code",
      "metadata": {
        "id": "yE3gXIJSjrdU",
        "colab_type": "code",
        "outputId": "bd206630-02a4-4599-bae7-6eb40190b0c1",
        "colab": {
          "base_uri": "https://localhost:8080/",
          "height": 1000
        }
      },
      "source": [
        "precision, recall, threshold = precision_recall_curve(y_test, y_pred_tree_clf)\n",
        "\n",
        "plt.figure(figsize=(12, 8))\n",
        "plt.plot(precision, recall)\n",
        "plt.xlabel(\"Precision\")\n",
        "plt.ylabel(\"Recall\")\n",
        "plt.show()\n",
        "\n",
        "precision, recall, threshold = precision_recall_curve(y_test, y_pred_log_reg)\n",
        "plt.figure(figsize=(12, 8))\n",
        "plt.plot(precision, recall)\n",
        "plt.xlabel(\"Precision\")\n",
        "plt.ylabel(\"Recall\")\n",
        "plt.show()"
      ],
      "execution_count": 0,
      "outputs": [
        {
          "output_type": "display_data",
          "data": {
            "image/png": "[encoded data removed]",
            "text/plain": [
              "<Figure size 864x576 with 1 Axes>"
            ]
          },
          "metadata": {
            "tags": []
          }
        },
        {
          "output_type": "display_data",
          "data": {
            "image/png": "[encoded data removed]",
            "text/plain": [
              "<Figure size 864x576 with 1 Axes>"
            ]
          },
          "metadata": {
            "tags": []
          }
        }
      ]
    },
    {
      "cell_type": "code",
      "metadata": {
        "id": "h0UMMGJlkGQE",
        "colab_type": "code",
        "colab": {}
      },
      "source": [
        "#回帰\n",
        "from mglearn.datasets import make_wave"
      ],
      "execution_count": 0,
      "outputs": []
    },
    {
      "cell_type": "code",
      "metadata": {
        "id": "C-wH9uQClBmX",
        "colab_type": "code",
        "outputId": "2bb42d7d-a025-46a6-a45b-d67b7d0d9cf2",
        "colab": {
          "base_uri": "https://localhost:8080/",
          "height": 520
        }
      },
      "source": [
        "X, y = make_wave(n_samples=100)\n",
        "\n",
        "plt.figure(figsize=(12,8))\n",
        "plt.scatter(X, y)\n",
        "plt.xlabel(\"X\")\n",
        "plt.ylabel(\"Y\")\n",
        "plt.show()"
      ],
      "execution_count": 0,
      "outputs": [
        {
          "output_type": "display_data",
          "data": {
            "image/png": "[encoded data removed]",
            "text/plain": [
              "<Figure size 864x576 with 1 Axes>"
            ]
          },
          "metadata": {
            "tags": []
          }
        }
      ]
    },
    {
      "cell_type": "code",
      "metadata": {
        "id": "lD5D_aZXlpNq",
        "colab_type": "code",
        "colab": {}
      },
      "source": [
        "from sklearn.linear_model import LinearRegression "
      ],
      "execution_count": 0,
      "outputs": []
    },
    {
      "cell_type": "code",
      "metadata": {
        "id": "PUrZO7MOl94z",
        "colab_type": "code",
        "colab": {}
      },
      "source": [
        "X_train, X_test, y_train, y_test = train_test_split(X, y, random_state=0)\n",
        "lin_reg = LinearRegression().fit(X_train,y_train)"
      ],
      "execution_count": 0,
      "outputs": []
    },
    {
      "cell_type": "code",
      "metadata": {
        "id": "yHvRKMPXoPzv",
        "colab_type": "code",
        "outputId": "4a2fa5c8-c38a-4a11-c8d2-68a93aa8d549",
        "colab": {
          "base_uri": "https://localhost:8080/",
          "height": 34
        }
      },
      "source": [
        "print(lin_reg.score(X_test,y_test))"
      ],
      "execution_count": 0,
      "outputs": [
        {
          "output_type": "stream",
          "text": [
            "0.621210114749764\n"
          ],
          "name": "stdout"
        }
      ]
    },
    {
      "cell_type": "code",
      "metadata": {
        "id": "xIr3EwhRoXJZ",
        "colab_type": "code",
        "colab": {}
      },
      "source": [
        "from sklearn.metrics import mean_squared_error"
      ],
      "execution_count": 0,
      "outputs": []
    },
    {
      "cell_type": "code",
      "metadata": {
        "id": "AVPGtYOlorRI",
        "colab_type": "code",
        "outputId": "4f8ed845-0fe2-49dd-8874-a30596db10c2",
        "colab": {
          "base_uri": "https://localhost:8080/",
          "height": 34
        }
      },
      "source": [
        "y_pred = lin_reg.predict(X_test)\n",
        "\n",
        "mse = mean_squared_error(y_test,y_pred)\n",
        "mse"
      ],
      "execution_count": 0,
      "outputs": [
        {
          "output_type": "execute_result",
          "data": {
            "text/plain": [
              "0.3621150673476498"
            ]
          },
          "metadata": {
            "tags": []
          },
          "execution_count": 68
        }
      ]
    },
    {
      "cell_type": "code",
      "metadata": {
        "id": "-6KDFLGvpWzf",
        "colab_type": "code",
        "outputId": "6e87117a-a440-4551-a457-ad2e44668224",
        "colab": {
          "base_uri": "https://localhost:8080/",
          "height": 34
        }
      },
      "source": [
        "rmse = np.sqrt(mse)\n",
        "rmse"
      ],
      "execution_count": 0,
      "outputs": [
        {
          "output_type": "execute_result",
          "data": {
            "text/plain": [
              "0.6017599748634416"
            ]
          },
          "metadata": {
            "tags": []
          },
          "execution_count": 70
        }
      ]
    },
    {
      "cell_type": "code",
      "metadata": {
        "id": "RlIJHjohpgW6",
        "colab_type": "code",
        "colab": {}
      },
      "source": [
        ""
      ],
      "execution_count": 0,
      "outputs": []
    }
  ]
}